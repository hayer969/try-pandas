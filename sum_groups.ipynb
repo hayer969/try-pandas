{
 "cells": [
  {
   "cell_type": "code",
   "execution_count": null,
   "metadata": {},
   "outputs": [],
   "source": [
    "import pandas as pd\n",
    "from pathlib import Path\n",
    "from openpyxl import load_workbook"
   ]
  },
  {
   "cell_type": "markdown",
   "metadata": {},
   "source": [
    "# Читаем файл"
   ]
  },
  {
   "cell_type": "code",
   "execution_count": null,
   "metadata": {},
   "outputs": [],
   "source": [
    "path_to_data: Path = Path(r\"./test_data/balance.xlsx\")\n",
    "\n",
    "data: pd.DataFrame = pd.read_excel(path_to_data, sheet_name=\"TDSheet\")"
   ]
  },
  {
   "cell_type": "markdown",
   "metadata": {},
   "source": [
    "# Считываем уровни вложенности из оригинального файла и добавляем в колонку"
   ]
  },
  {
   "cell_type": "code",
   "execution_count": null,
   "metadata": {},
   "outputs": [],
   "source": [
    "wb = load_workbook(path_to_data)\n",
    "ws = wb[\"TDSheet\"]\n",
    "outline_levels = [\n",
    "    ws.row_dimensions[row].outline_level  # type: ignore[index]\n",
    "    for row in range(ws.min_row + 1, ws.max_row + 1)\n",
    "]\n",
    "data[\"outline_levels\"] = outline_levels\n",
    "# print(\n",
    "#     f\"{ws.cell(row=ws.max_row - 2, column=2).value}\",\n",
    "#     f\"{ws.row_dimensions[ws.max_row - 2].outline_level}\"\n",
    "# )"
   ]
  },
  {
   "cell_type": "markdown",
   "metadata": {},
   "source": [
    "# Добавляем колонку с кодом родителя для каждой группы вложенности"
   ]
  },
  {
   "cell_type": "code",
   "execution_count": null,
   "metadata": {},
   "outputs": [],
   "source": [
    "parents = [-1]\n",
    "data[\"parents\"] = -1\n",
    "data.at[data.index[0], \"parents\"] = parents[-1]\n",
    "for idx in data.index[:-1]:\n",
    "    data.at[data.index[idx], \"parents\"] = parents[-1]\n",
    "    if data.at[idx, \"outline_levels\"] < data.loc[idx + 1, \"outline_levels\"]:\n",
    "        parents.append(data[\"Код\"].iloc[idx])\n",
    "    elif data.at[idx, \"outline_levels\"] > data.at[idx + 1, \"outline_levels\"]:\n",
    "        for _ in range(\n",
    "            data.at[idx, \"outline_levels\"] - data.at[idx + 1, \"outline_levels\"]\n",
    "        ):\n",
    "            parents.pop()\n",
    "data.at[data.index[-1], \"parents\"] = parents[-1]"
   ]
  },
  {
   "cell_type": "markdown",
   "metadata": {},
   "source": [
    "# Выносим колонку \"Код\" в индекс"
   ]
  },
  {
   "cell_type": "code",
   "execution_count": null,
   "metadata": {},
   "outputs": [],
   "source": [
    "data = data.set_index(\"Код\")"
   ]
  },
  {
   "cell_type": "markdown",
   "metadata": {},
   "source": [
    "# Суммируем значение в стобиках по товарам, чтобы потом проверить расчеты"
   ]
  },
  {
   "cell_type": "code",
   "execution_count": null,
   "metadata": {},
   "outputs": [],
   "source": [
    "etalon_sum = data.iloc[:, 1:-2].sum()"
   ]
  },
  {
   "cell_type": "markdown",
   "metadata": {},
   "source": [
    "# Добавляем строку \"Итого\""
   ]
  },
  {
   "cell_type": "code",
   "execution_count": null,
   "metadata": {},
   "outputs": [],
   "source": [
    "sum_df = data.copy()\n",
    "sum_df.loc[-1, [\"Номенклатура\", \"outline_levels\", \"parents\"]] = [\"Итого\", 0, -2]\n",
    "sum_df[\"parents\"] = sum_df[\"parents\"].astype(\"int\")\n",
    "sum_df[\"outline_levels\"] = sum_df[\"outline_levels\"].astype(\"int\")\n",
    "sum_df[\"outline_levels\"] = sum_df[\"outline_levels\"].astype(\"category\")"
   ]
  },
  {
   "cell_type": "markdown",
   "metadata": {},
   "source": [
    "# Суммируем\n",
    "## Делим по уровням вложенности\n",
    "## В каждом уровне делим на группы с одинаковыми родителями\n",
    "## Суммируем группы начиная с самого глубокого уровня вложенности"
   ]
  },
  {
   "cell_type": "code",
   "execution_count": null,
   "metadata": {},
   "outputs": [],
   "source": [
    "outline_groups = sum_df.groupby(\"outline_levels\")\n",
    "for level in range(sum_df[\"outline_levels\"].cat.categories[-1], -1, -1):  # type: ignore[arg-type]\n",
    "    level_group = outline_groups.get_group(level)\n",
    "    parents_group = level_group.groupby(\"parents\")\n",
    "    for parent, group in parents_group:\n",
    "        sum_df.loc[parent, sum_df.columns[1:-2]] = group.iloc[:, 1:-2].sum()"
   ]
  },
  {
   "cell_type": "markdown",
   "metadata": {},
   "source": [
    "# Проверяем правильность суммирования"
   ]
  },
  {
   "cell_type": "code",
   "execution_count": null,
   "metadata": {},
   "outputs": [],
   "source": [
    "sum_for_test = sum_df.loc[-1, sum_df.columns[1:-2]].astype(\"float\")  # type: ignore[index]\n",
    "pd.testing.assert_series_equal(\n",
    "    etalon_sum, sum_for_test, check_exact=True, check_names=False\n",
    ")  # type: ignore[call-overload]"
   ]
  },
  {
   "cell_type": "markdown",
   "metadata": {},
   "source": [
    "# Сохраним обработанную таблицу целиком в csv"
   ]
  },
  {
   "cell_type": "code",
   "execution_count": null,
   "metadata": {},
   "outputs": [],
   "source": [
    "result_path = path_to_data.with_stem(f\"{path_to_data.stem}_result\")\n",
    "sum_df.to_csv(result_path, sep=\";\", float_format=\"%.2f\", decimal=\",\")"
   ]
  },
  {
   "cell_type": "markdown",
   "metadata": {},
   "source": [
    "# Удаляем лишние колонки и копируем данные в буфер обмена"
   ]
  },
  {
   "cell_type": "code",
   "execution_count": null,
   "metadata": {},
   "outputs": [],
   "source": [
    "result = sum_df.drop(columns=[\"Номенклатура\", \"outline_levels\", \"parents\"])\n",
    "result.info()\n",
    "result.to_clipboard(excel=True, index=False, header=False, float_format=\"%.2f\", decimal=\",\")"
   ]
  }
 ],
 "metadata": {
  "language_info": {
   "name": "python"
  },
  "orig_nbformat": 4
 },
 "nbformat": 4,
 "nbformat_minor": 2
}
