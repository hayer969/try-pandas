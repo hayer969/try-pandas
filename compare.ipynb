{
 "cells": [
  {
   "attachments": {},
   "cell_type": "markdown",
   "metadata": {},
   "source": [
    "# Пути до файлов отчётов"
   ]
  },
  {
   "cell_type": "code",
   "execution_count": null,
   "metadata": {},
   "outputs": [],
   "source": [
    "report_path = r\"./test_data/full_cycle/Шаблон для деф с ПРК 55.xlsx\"\n",
    "second_report_path = r\"./test_data/full_cycle/Шаблон для деф с ПРК 55.xlsx\""
   ]
  },
  {
   "attachments": {},
   "cell_type": "markdown",
   "metadata": {},
   "source": [
    "# Сравниваем, если разные, то напишет, что именно."
   ]
  },
  {
   "cell_type": "code",
   "execution_count": null,
   "metadata": {},
   "outputs": [],
   "source": [
    "import pandas as pd\n",
    "report = pd.read_excel(report_path)\n",
    "report = report.set_index(\"Код\")\n",
    "second_report = pd.read_excel(second_report_path)\n",
    "second_report = second_report.set_index(\"Код\")\n",
    "compare = report.compare(second_report, align_axis=0)\n",
    "print(compare)"
   ]
  }
 ],
 "metadata": {
  "language_info": {
   "name": "python"
  },
  "orig_nbformat": 4
 },
 "nbformat": 4,
 "nbformat_minor": 2
}
